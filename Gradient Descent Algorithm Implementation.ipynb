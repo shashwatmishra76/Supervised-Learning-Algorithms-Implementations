{
 "cells": [
  {
   "cell_type": "code",
   "execution_count": 2,
   "id": "9e92bcf7-6b6b-44cf-b682-aefc2fceeced",
   "metadata": {},
   "outputs": [
    {
     "name": "stdout",
     "output_type": "stream",
     "text": [
      "Optimized w: 1.9999999999999982, optimized b: 3.05915457603757\n"
     ]
    }
   ],
   "source": [
    "# Gradient Descent Algorithm Implementation\n",
    "\n",
    "# Necessary imports\n",
    "import numpy as np\n",
    "\n",
    "# Generate test data\n",
    "x = np.random.randn(10, 1)\n",
    "y = 2 * x + 3 + (np.random.rand(10) * 0.1) # True slope is 2, true intercept is 3 with some noise\n",
    "\n",
    "#print('Generated test input values - ', x)\n",
    "#print('Generated test output values - ', y)\n",
    "\n",
    "# Initialize parameters\n",
    "w = 0.0\n",
    "b = 0.0\n",
    "learning_rate = 0.01\n",
    "iterations = 1000\n",
    "\n",
    "# Gradient descent algorithm\n",
    "def gradient_descent(x, y, w, b, learning_rate, iterations):\n",
    "    dl_dw = 0.0 # Partial derivative of cost function w.r.t. w\n",
    "    dl_db = 0.0 # Partial derivative of cost function w.r.t. b\n",
    "    n = x.shape[0] # Size of training set\n",
    "    for i in range(iterations):\n",
    "        dl_dw = np.sum(((w * x + b) - y) * x)  / n\n",
    "        dl_db = np.sum((w * x + b) - y) / n\n",
    "        w = w - learning_rate * dl_dw\n",
    "        b = b - learning_rate * dl_db\n",
    "    return w, b\n",
    "\n",
    "# Invoke gradient descent\n",
    "w, b = gradient_descent(x, y, w, b, learning_rate, iterations)\n",
    "\n",
    "print(f\"Optimized w: {w}, optimized b: {b}\")"
   ]
  },
  {
   "cell_type": "code",
   "execution_count": null,
   "id": "1f7247c1-cd7c-4b32-b97b-a11e459b1412",
   "metadata": {},
   "outputs": [],
   "source": []
  }
 ],
 "metadata": {
  "kernelspec": {
   "display_name": "Python 3 (ipykernel)",
   "language": "python",
   "name": "python3"
  },
  "language_info": {
   "codemirror_mode": {
    "name": "ipython",
    "version": 3
   },
   "file_extension": ".py",
   "mimetype": "text/x-python",
   "name": "python",
   "nbconvert_exporter": "python",
   "pygments_lexer": "ipython3",
   "version": "3.12.6"
  }
 },
 "nbformat": 4,
 "nbformat_minor": 5
}
